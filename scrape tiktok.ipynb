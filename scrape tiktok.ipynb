{
 "cells": [
  {
   "cell_type": "code",
   "execution_count": 1,
   "id": "a75089f6",
   "metadata": {
    "scrolled": true
   },
   "outputs": [],
   "source": [
    "from selenium import webdriver\n",
    "from bs4 import BeautifulSoup\n",
    "import pandas as pd\n",
    "from selenium.webdriver.common.by import By\n",
    "import time"
   ]
  },
  {
   "cell_type": "code",
   "execution_count": 2,
   "id": "cf372304",
   "metadata": {},
   "outputs": [],
   "source": [
    "#download the chrome driver and start it\n",
    "driver = webdriver.Chrome(\n",
    "    'C:/Users/chromedriver_win32/chromedriver.exe')\n",
    "driver.maximize_window() # making full screen \n",
    "\n",
    "driver.get('https://www.tiktok.com')\n",
    "#this code is used to get data related to a specific hashtag. once tiktok is open, search for your keyword"
   ]
  },
  {
   "cell_type": "code",
   "execution_count": 4,
   "id": "90a938b8",
   "metadata": {},
   "outputs": [],
   "source": [
    "dict1 = {\"date\":[],\"name\":[],\"vide_desc\":[],\"likes\":[]};\n",
    "Description_Only = []\n",
    "while True:  \n",
    "    #Imports the HTML of the current page into python\n",
    "    soup = BeautifulSoup(driver.page_source, 'lxml')\n",
    "    \n",
    "    #Grabs the HTML of each posting\n",
    "    postings = soup.find_all('div', class_ = 'tiktok-1soki6-DivItemContainerForSearch e19c29qe9')\n",
    "    \n",
    "    #grabs all the details for each posting and adds it as a row to the dataframe\n",
    "    for post in postings:\n",
    "        Description_Only.append(post.text)\n",
    "        date =  post.find('div', class_ = 'tiktok-842lvj-DivTimeTag e19c29qe14').text\n",
    "        dict1[\"date\"].append(date)\n",
    "        name =  post.find('p', class_ = 'tiktok-2zn17v-PUniqueId etrd4pu6').text\n",
    "        dict1[\"name\"].append(name)\n",
    "        vide_desc = post.find('div', class_ = 'tiktok-1ejylhp-DivContainer ejg0rhn0').text\n",
    "        dict1[\"vide_desc\"].append(vide_desc)\n",
    "        likes = post.find_all('strong', class_ = 'tiktok-ws4x78-StrongVideoCount etrd4pu10')[0].text\n",
    "        dict1[\"likes\"].append(likes)\n",
    "       \n",
    "\n",
    "        driver.execute_script('window.scrollTo(0, document.body.scrollHeight)')\n",
    "        time.sleep(5)\n",
    "        soup = BeautifulSoup(driver.page_source, 'lxml')\n",
    "        postings = soup.find_all('div', class_ = 'tiktok-1soki6-DivItemContainerForSearch e19c29qe9')\n",
    "    \n",
    "        Uniq_Descriptions = list(set(Description_Only))\n",
    "        if len(Uniq_Descriptions) > 10:\n",
    "            break\n",
    "        print(dict1)   \n",
    "         \n"
   ]
  },
  {
   "cell_type": "code",
   "execution_count": null,
   "id": "59665f26",
   "metadata": {},
   "outputs": [],
   "source": [
    "#transform the dict1 to a dataframe and print it\n",
    "df1 = pd.DataFrame(dict1)\n",
    "df1"
   ]
  }
 ],
 "metadata": {
  "kernelspec": {
   "display_name": "Python 3 (ipykernel)",
   "language": "python",
   "name": "python3"
  },
  "language_info": {
   "codemirror_mode": {
    "name": "ipython",
    "version": 3
   },
   "file_extension": ".py",
   "mimetype": "text/x-python",
   "name": "python",
   "nbconvert_exporter": "python",
   "pygments_lexer": "ipython3",
   "version": "3.9.12"
  }
 },
 "nbformat": 4,
 "nbformat_minor": 5
}
